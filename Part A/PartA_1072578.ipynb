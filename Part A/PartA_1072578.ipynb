{
 "cells": [
  {
   "cell_type": "markdown",
   "id": "initial_id",
   "metadata": {
    "collapsed": true
   },
   "source": [
    "# Εργαστηριακή Άσκηση Υπολογιστικής Νοημοσύνης\n",
    "## Μέρος Α΄, Χρονολόγηση Αρχαίων Επιγραφών με Χρήση Νευρωνικών Δικτύων"
   ]
  },
  {
   "cell_type": "markdown",
   "id": "d42e3464",
   "metadata": {},
   "source": [
    "Όνομα: Ζαχουλίτης Κωνσταντίνος Γεώργιος <br/>\n",
    "ΑΜ: 1072578 <br/>\n",
    "Έτος: 5ο <br/>\n",
    "Email: up1072578@ac.upatras.gr"
   ]
  },
  {
   "cell_type": "markdown",
   "id": "3b3ee591",
   "metadata": {},
   "source": [
    "### Περιβάλλον Υλοποίησης \n",
    "CPU:    AMD 6-core 64-bit <br/>\n",
    "OS:     Windows 11 23H2 <br/>\n",
    "Python: 3.12.0 <br/>\n",
    "IDE:    Pycharm Professional"
   ]
  },
  {
   "cell_type": "markdown",
   "id": "474a759b",
   "metadata": {},
   "source": [
    "### Α1. Προεπεξεργασία και Προετοιμασία δεδομένων"
   ]
  },
  {
   "cell_type": "markdown",
   "id": "6db37607",
   "metadata": {},
   "source": [
    "#### α) Κωδικοποίηση και προεπεξεργασία δεδομένων"
   ]
  },
  {
   "cell_type": "code",
   "execution_count": null,
   "id": "35ae2590",
   "metadata": {},
   "outputs": [],
   "source": [
    "print()"
   ]
  },
  {
   "cell_type": "markdown",
   "id": "e264c656",
   "metadata": {},
   "source": [
    "#### β) Κανονικοποίηση (Normalization ή min-max scaling)"
   ]
  },
  {
   "cell_type": "code",
   "execution_count": null,
   "id": "9046b98e",
   "metadata": {},
   "outputs": [],
   "source": [
    "print()"
   ]
  },
  {
   "cell_type": "markdown",
   "id": "a59f2618",
   "metadata": {},
   "source": [
    "#### γ) Διασταυρούμενη Επικύρωση (cross-validation)"
   ]
  },
  {
   "cell_type": "code",
   "execution_count": null,
   "id": "3e4f3a5a",
   "metadata": {},
   "outputs": [],
   "source": [
    "print()"
   ]
  },
  {
   "cell_type": "markdown",
   "id": "9a31d7fc",
   "metadata": {},
   "source": [
    "### Α2. Επιλογή αρχιτεκτονικής"
   ]
  },
  {
   "cell_type": "markdown",
   "id": "4c247ace",
   "metadata": {},
   "source": [
    "#### α) Η εκπαίδευση και αξιολόγηση των μοντέλων με την χρήση της Ρίζας του Μέσου Τετραγωνικού Σφάλματος (RMSE)\n"
   ]
  },
  {
   "cell_type": "code",
   "execution_count": null,
   "id": "acbfb87f",
   "metadata": {},
   "outputs": [],
   "source": [
    "print()"
   ]
  },
  {
   "cell_type": "markdown",
   "id": "728b9b68",
   "metadata": {},
   "source": [
    "#### β) Συνάρτηση ενεργοποίησης για τους κρυφούς κόμβους"
   ]
  },
  {
   "cell_type": "code",
   "execution_count": null,
   "id": "1b266e30",
   "metadata": {},
   "outputs": [],
   "source": [
    "print()"
   ]
  },
  {
   "cell_type": "markdown",
   "id": "f56289d1",
   "metadata": {},
   "source": [
    "#### γ) Συνάρτηση ενεργοποίησης για τους κόμβους εξόδου"
   ]
  },
  {
   "cell_type": "code",
   "execution_count": null,
   "id": "065049c0",
   "metadata": {},
   "outputs": [],
   "source": [
    "print()"
   ]
  },
  {
   "cell_type": "markdown",
   "id": "8998c42b",
   "metadata": {},
   "source": [
    "#### δ) Πειραματισμός με 3 διαφορετικές τιμές για τον αριθμό των νευρώνων του κρυφού επιπέδου"
   ]
  },
  {
   "cell_type": "code",
   "execution_count": null,
   "id": "0decfcde",
   "metadata": {},
   "outputs": [],
   "source": [
    "print()"
   ]
  },
  {
   "cell_type": "markdown",
   "id": "2f5d42c4",
   "metadata": {},
   "source": [
    "#### ε) Προσθήκη ενός έως δύο ακόμα κρυφών επιπέδων στο δίκτυο (Η2, Η3). Πειραματισμός με τον αριθμό των κόμβων"
   ]
  },
  {
   "cell_type": "code",
   "execution_count": null,
   "id": "f8640fd3",
   "metadata": {},
   "outputs": [],
   "source": [
    "print()"
   ]
  },
  {
   "cell_type": "markdown",
   "id": "1ec8a8df",
   "metadata": {},
   "source": [
    "#### στ) Κριτήριο τερματισμού"
   ]
  },
  {
   "cell_type": "code",
   "execution_count": null,
   "id": "6cdc8162",
   "metadata": {},
   "outputs": [],
   "source": [
    "print()"
   ]
  },
  {
   "cell_type": "markdown",
   "id": "dabfc0f6",
   "metadata": {},
   "source": [
    "### Α3. Μεταβολές στον ρυθμό εκπαίδευσης και σταθεράς ορμής"
   ]
  },
  {
   "cell_type": "code",
   "execution_count": null,
   "id": "92a89a55",
   "metadata": {},
   "outputs": [],
   "source": [
    "print()"
   ]
  },
  {
   "cell_type": "markdown",
   "id": "656fce8e",
   "metadata": {},
   "source": [
    "### Α4. Ομαλοποίηση"
   ]
  },
  {
   "cell_type": "code",
   "execution_count": null,
   "id": "b73d6894",
   "metadata": {},
   "outputs": [],
   "source": [
    "print()"
   ]
  },
  {
   "cell_type": "markdown",
   "id": "26c938fb",
   "metadata": {},
   "source": [
    "### A5. Γλωσσικά Μοντέλα (bonus)"
   ]
  },
  {
   "cell_type": "code",
   "execution_count": null,
   "id": "8275efea",
   "metadata": {},
   "outputs": [],
   "source": [
    "print()"
   ]
  }
 ],
 "metadata": {
  "kernelspec": {
   "display_name": "Python 3",
   "language": "python",
   "name": "python3"
  },
  "language_info": {
   "codemirror_mode": {
    "name": "ipython",
    "version": 2
   },
   "file_extension": ".py",
   "mimetype": "text/x-python",
   "name": "python",
   "nbconvert_exporter": "python",
   "pygments_lexer": "ipython2",
   "version": "2.7.6"
  }
 },
 "nbformat": 4,
 "nbformat_minor": 5
}
